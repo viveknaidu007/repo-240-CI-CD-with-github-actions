{
 "cells": [
  {
   "cell_type": "markdown",
   "metadata": {},
   "source": [
    "https://github.com/viveknaidu007/repo-240-CI-CD-with-github-actions.git"
   ]
  },
  {
   "cell_type": "markdown",
   "metadata": {},
   "source": [
    "# deploying a React (Vite) frontend and a Flask backend, you should set up CI/CD using GitHub Actions to automatically deploy updates. Here’s how you can structure your GitHub Actions "
   ]
  },
  {
   "cell_type": "code",
   "execution_count": null,
   "metadata": {
    "vscode": {
     "languageId": "plaintext"
    }
   },
   "outputs": [],
   "source": []
  },
  {
   "cell_type": "markdown",
   "metadata": {
    "vscode": {
     "languageId": "plaintext"
    }
   },
   "source": [
    "Since you are deploying a **React (Vite) frontend** and a **Flask backend**, you should set up **CI/CD using GitHub Actions** to automatically deploy updates. Here’s how you can structure your GitHub Actions workflow for **continuous deployment**.\n",
    "\n",
    "---\n",
    "\n",
    "## **Deployment Plan**\n",
    "### 🔹 **Backend (Flask)**\n",
    "- Hosted on **AWS EC2** or **Docker (AWS ECS)**\n",
    "- Uses **Gunicorn + Nginx**\n",
    "- CI/CD triggers on backend code changes\n",
    "- Restarts the server after deployment\n",
    "\n",
    "### 🔹 **Frontend (React + Vite)**\n",
    "- Hosted on **Vercel, Netlify, or AWS S3 + CloudFront**\n",
    "- CI/CD triggers on frontend code changes\n",
    "- Deploys the updated frontend automatically\n",
    "\n",
    "---\n",
    "\n",
    "## **Step 1: Configure GitHub Actions**\n",
    "In your GitHub repository, create a **`.github/workflows/deploy.yml`** file.\n",
    "\n",
    "```yaml\n",
    "name: Deploy Backend and Frontend\n",
    "\n",
    "on:\n",
    "  push:\n",
    "    branches:\n",
    "      - main  # Change to your deployment branch\n",
    "\n",
    "jobs:\n",
    "  backend-deploy:\n",
    "    name: Deploy Flask Backend\n",
    "    runs-on: ubuntu-latest\n",
    "\n",
    "    steps:\n",
    "      - name: Checkout Repository\n",
    "        uses: actions/checkout@v3\n",
    "\n",
    "      - name: Set up Python\n",
    "        uses: actions/setup-python@v4\n",
    "        with:\n",
    "          python-version: '3.10'\n",
    "\n",
    "      - name: Install Dependencies\n",
    "        run: |\n",
    "          cd backend\n",
    "          pip install -r requirements.txt\n",
    "\n",
    "      - name: Deploy to EC2\n",
    "        env:\n",
    "          PRIVATE_KEY: ${{ secrets.SSH_PRIVATE_KEY }}\n",
    "          HOST: ${{ secrets.EC2_HOST }}\n",
    "          USER: ${{ secrets.EC2_USER }}\n",
    "        run: |\n",
    "          echo \"$PRIVATE_KEY\" > private_key.pem\n",
    "          chmod 600 private_key.pem\n",
    "          scp -i private_key.pem -r backend/* $USER@$HOST:/home/$USER/backend/\n",
    "          ssh -i private_key.pem $USER@$HOST 'cd /home/$USER/backend && sudo systemctl restart gunicorn'\n",
    "\n",
    "  frontend-deploy:\n",
    "    name: Deploy React Frontend\n",
    "    runs-on: ubuntu-latest\n",
    "\n",
    "    steps:\n",
    "      - name: Checkout Repository\n",
    "        uses: actions/checkout@v3\n",
    "\n",
    "      - name: Set up Node.js\n",
    "        uses: actions/setup-node@v3\n",
    "        with:\n",
    "          node-version: '18'\n",
    "\n",
    "      - name: Install Dependencies\n",
    "        run: |\n",
    "          cd frontend\n",
    "          npm install\n",
    "\n",
    "      - name: Build Frontend\n",
    "        run: |\n",
    "          cd frontend\n",
    "          npm run build\n",
    "\n",
    "      - name: Deploy to Vercel\n",
    "        run: |\n",
    "          npm i -g vercel\n",
    "          vercel --token ${{ secrets.VERCEL_TOKEN }} --prod\n",
    "```\n",
    "\n",
    "---\n",
    "\n",
    "## **Step 2: Setup Secrets in GitHub**\n",
    "Go to **GitHub → Settings → Secrets → Actions** and add these secrets:\n",
    "- `SSH_PRIVATE_KEY`: Your **EC2 private key** for SSH\n",
    "- `EC2_HOST`: Your **EC2 instance public IP**\n",
    "- `EC2_USER`: Your **EC2 username (e.g., ubuntu)**\n",
    "- `VERCEL_TOKEN`: **Vercel API token** (for frontend deployment)\n",
    "\n",
    "---\n",
    "\n",
    "## **Step 3: Configure EC2 for Auto-Restart**\n",
    "On your EC2 instance:\n",
    "1. Install **Gunicorn**:\n",
    "   ```sh\n",
    "   pip install gunicorn\n",
    "   ```\n",
    "2. Create a **Gunicorn service** (`/etc/systemd/system/gunicorn.service`):\n",
    "   ```ini\n",
    "   [Unit]\n",
    "   Description=Gunicorn server\n",
    "   After=network.target\n",
    "\n",
    "   [Service]\n",
    "   User=ubuntu\n",
    "   Group=ubuntu\n",
    "   WorkingDirectory=/home/ubuntu/backend\n",
    "   ExecStart=/usr/bin/gunicorn --workers 4 --bind 0.0.0.0:8000 app:app\n",
    "\n",
    "   [Install]\n",
    "   WantedBy=multi-user.target\n",
    "   ```\n",
    "3. Start and enable the service:\n",
    "   ```sh\n",
    "   sudo systemctl start gunicorn\n",
    "   sudo systemctl enable gunicorn\n",
    "   ```\n",
    "\n",
    "---\n",
    "\n",
    "## **Step 4: Configure Nginx for Flask**\n",
    "On **EC2**, set up Nginx as a reverse proxy:\n",
    "1. Install Nginx:\n",
    "   ```sh\n",
    "   sudo apt update && sudo apt install nginx -y\n",
    "   ```\n",
    "2. Configure Nginx (`/etc/nginx/sites-available/backend`):\n",
    "   ```nginx\n",
    "   server {\n",
    "       listen 80;\n",
    "       server_name your_domain_or_ip;\n",
    "\n",
    "       location / {\n",
    "           proxy_pass http://127.0.0.1:8000;\n",
    "           proxy_set_header Host $host;\n",
    "           proxy_set_header X-Real-IP $remote_addr;\n",
    "           proxy_set_header X-Forwarded-For $proxy_add_x_forwarded_for;\n",
    "       }\n",
    "   }\n",
    "   ```\n",
    "3. Enable the configuration:\n",
    "   ```sh\n",
    "   sudo ln -s /etc/nginx/sites-available/backend /etc/nginx/sites-enabled\n",
    "   sudo systemctl restart nginx\n",
    "   ```\n",
    "\n",
    "---\n",
    "\n",
    "## **Step 5: Deploy Frontend on Vercel**\n",
    "1. Install **Vercel CLI**:\n",
    "   ```sh\n",
    "   npm i -g vercel\n",
    "   ```\n",
    "2. Link the project:\n",
    "   ```sh\n",
    "   cd frontend\n",
    "   vercel\n",
    "   ```\n",
    "3. Set environment variables on **Vercel**.\n",
    "\n",
    "---\n",
    "\n",
    "## **How CI/CD Works**\n",
    "- When you **push changes** to GitHub:\n",
    "  ✅ **Backend updates** → Deploys to EC2  \n",
    "  ✅ **Frontend updates** → Deploys to Vercel  \n",
    "- **Zero downtime** (server auto-restarts)  \n",
    "- **Production-ready deployment**\n",
    "\n",
    "---\n",
    "\n",
    "🚀 **Your Flask + React app now has automated deployments!**  "
   ]
  },
  {
   "cell_type": "code",
   "execution_count": null,
   "metadata": {
    "vscode": {
     "languageId": "plaintext"
    }
   },
   "outputs": [],
   "source": []
  },
  {
   "cell_type": "code",
   "execution_count": null,
   "metadata": {
    "vscode": {
     "languageId": "plaintext"
    }
   },
   "outputs": [],
   "source": []
  },
  {
   "cell_type": "markdown",
   "metadata": {},
   "source": [
    "# ************************************************************"
   ]
  },
  {
   "cell_type": "code",
   "execution_count": null,
   "metadata": {
    "vscode": {
     "languageId": "plaintext"
    }
   },
   "outputs": [],
   "source": []
  }
 ],
 "metadata": {
  "language_info": {
   "name": "python"
  }
 },
 "nbformat": 4,
 "nbformat_minor": 2
}
